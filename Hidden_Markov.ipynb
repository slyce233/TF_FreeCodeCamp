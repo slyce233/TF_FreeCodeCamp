{
 "cells": [
  {
   "cell_type": "code",
   "execution_count": 4,
   "id": "9b7eb8fb",
   "metadata": {},
   "outputs": [],
   "source": [
    "import tensorflow as tf\n",
    "import tensorflow_probability as tfp"
   ]
  },
  {
   "cell_type": "code",
   "execution_count": 13,
   "id": "88c754b6",
   "metadata": {},
   "outputs": [],
   "source": [
    "tfd = tfp.distributions # making a shortcut for later on\n",
    "initial_distribution = tfd.Categorical(probs=[0.8,0.2]) \n",
    "transition_distribution = tfd.Categorical(probs=[[0.7,0.3],\n",
    "                                                 [0.2,0.8]])\n",
    "observation_distribution = tfd.Normal(loc=[0.,15.], scale=[5.,10.])\n",
    "\n",
    "# loc argument represents mean and scale is standard deviation"
   ]
  },
  {
   "cell_type": "code",
   "execution_count": 16,
   "id": "f4643538",
   "metadata": {},
   "outputs": [],
   "source": [
    "tfd = tfp.distributions # making a shortcut for later on\n",
    "initial_distribution = tfd.Categorical(probs=[0.8,0.2]) \n",
    "transition_distribution = tfd.Categorical(probs=[[0.5,0.5],\n",
    "                                                 [0.2,0.8]])\n",
    "observation_distribution = tfd.Normal(loc=[0.,15.], scale=[5.,10.])"
   ]
  },
  {
   "cell_type": "code",
   "execution_count": 17,
   "id": "5d766742",
   "metadata": {},
   "outputs": [],
   "source": [
    "model = tfd.HiddenMarkovModel(\n",
    "initial_distribution=initial_distribution,\n",
    "transition_distribution=transition_distribution,\n",
    "observation_distribution=observation_distribution,\n",
    "num_steps=7)"
   ]
  },
  {
   "cell_type": "code",
   "execution_count": 18,
   "id": "87274cdf",
   "metadata": {},
   "outputs": [
    {
     "name": "stdout",
     "output_type": "stream",
     "text": [
      "[ 2.9999998  8.4       10.02      10.506     10.651799  10.69554\n",
      " 10.708661 ]\n"
     ]
    }
   ],
   "source": [
    "mean = model.mean()\n",
    "\n",
    "with tf.compat.v1.Session() as sess:\n",
    "    print(mean.numpy())"
   ]
  },
  {
   "cell_type": "code",
   "execution_count": null,
   "id": "c608ed46",
   "metadata": {},
   "outputs": [],
   "source": []
  }
 ],
 "metadata": {
  "kernelspec": {
   "display_name": "Python 3 (ipykernel)",
   "language": "python",
   "name": "python3"
  },
  "language_info": {
   "codemirror_mode": {
    "name": "ipython",
    "version": 3
   },
   "file_extension": ".py",
   "mimetype": "text/x-python",
   "name": "python",
   "nbconvert_exporter": "python",
   "pygments_lexer": "ipython3",
   "version": "3.8.8"
  }
 },
 "nbformat": 4,
 "nbformat_minor": 5
}
